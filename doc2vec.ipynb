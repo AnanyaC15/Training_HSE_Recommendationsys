{
 "cells": [
  {
   "cell_type": "markdown",
   "metadata": {},
   "source": [
    "# 0. Configuration"
   ]
  },
  {
   "cell_type": "code",
   "execution_count": 1,
   "metadata": {},
   "outputs": [],
   "source": [
    "# links to shared data MovieLens\n",
    "# source on kaggle: https://www.kaggle.com/code/quangnhatbui/movie-recommender/data\n",
    "MOVIES_METADATA_URL = 'https://drive.google.com/file/d/19g6-apYbZb5D-wRj4L7aYKhxS-fDM4Fb/view?usp=share_link'\n",
    "RATINGS_SMALL_URL = 'https://drive.google.com/file/d/1BlZfCLLs5A13tbNSJZ1GPkHLWQOnPlE4/view?usp=share_link'"
   ]
  },
  {
   "cell_type": "markdown",
   "metadata": {},
   "source": [
    "# 1. Modules and functions"
   ]
  },
  {
   "cell_type": "code",
   "execution_count": 5,
   "metadata": {},
   "outputs": [
    {
     "data": {
      "text/plain": [
       "'1.21.5'"
      ]
     },
     "execution_count": 5,
     "metadata": {},
     "output_type": "execute_result"
    }
   ],
   "source": [
    "np.__version__"
   ]
  },
  {
   "cell_type": "code",
   "execution_count": 3,
   "metadata": {},
   "outputs": [
    {
     "name": "stdout",
     "output_type": "stream",
     "text": [
      "Requirement already satisfied: pymystem3 in /opt/anaconda3/lib/python3.9/site-packages (0.2.0)\n",
      "Requirement already satisfied: requests in /opt/anaconda3/lib/python3.9/site-packages (from pymystem3) (2.27.1)\n",
      "Requirement already satisfied: certifi>=2017.4.17 in /opt/anaconda3/lib/python3.9/site-packages (from requests->pymystem3) (2021.10.8)\n",
      "Requirement already satisfied: urllib3<1.27,>=1.21.1 in /opt/anaconda3/lib/python3.9/site-packages (from requests->pymystem3) (1.26.9)\n",
      "Requirement already satisfied: idna<4,>=2.5 in /opt/anaconda3/lib/python3.9/site-packages (from requests->pymystem3) (3.3)\n",
      "Requirement already satisfied: charset-normalizer~=2.0.0 in /opt/anaconda3/lib/python3.9/site-packages (from requests->pymystem3) (2.0.4)\n",
      "Note: you may need to restart the kernel to use updated packages.\n"
     ]
    }
   ],
   "source": [
    "pip install pymystem3"
   ]
  },
  {
   "cell_type": "code",
   "execution_count": 72,
   "metadata": {},
   "outputs": [
    {
     "name": "stderr",
     "output_type": "stream",
     "text": [
      "[nltk_data] Downloading package stopwords to\n",
      "[nltk_data]     /Users/ananyachhonker/nltk_data...\n",
      "[nltk_data]   Package stopwords is already up-to-date!\n"
     ]
    },
    {
     "data": {
      "text/plain": [
       "True"
      ]
     },
     "execution_count": 72,
     "metadata": {},
     "output_type": "execute_result"
    }
   ],
   "source": [
    "import re\n",
    "import nltk\n",
    "import numpy as np\n",
    "import pandas as pd\n",
    "from tqdm import tqdm_notebook\n",
    "from ast import literal_eval\n",
    "from pymystem3 import Mystem\n",
    "from string import punctuation\n",
    "from nltk.corpus import stopwords\n",
    "from nltk.tokenize import word_tokenize\n",
    "from gensim.models.doc2vec import Doc2Vec, TaggedDocument\n",
    "from sklearn.decomposition import PCA\n",
    "from sklearn.manifold import TSNE\n",
    "import matplotlib.pyplot as plt\n",
    "import seaborn as sns\n",
    "sns.set_style(\"darkgrid\")\n",
    "\n",
    "import warnings\n",
    "import gensim\n",
    "warnings.filterwarnings('ignore')\n",
    "\n",
    "# download stop words beforehand\n",
    "nltk.download('stopwords')\n"
   ]
  },
  {
   "cell_type": "markdown",
   "metadata": {},
   "source": [
    "## 1.1. Helper functions to avoid copypaste"
   ]
  },
  {
   "cell_type": "code",
   "execution_count": 6,
   "metadata": {},
   "outputs": [],
   "source": [
    "def read_csv_from_gdrive(url):\n",
    "    \"\"\"\n",
    "    gets csv data from a given url (taken from file -> share -> copy link)\n",
    "    :url: example https://drive.google.com/file/d/1BlZfCLLs5A13tbNSJZ1GPkHLWQOnPlE4/view?usp=share_link\n",
    "    \"\"\"\n",
    "    file_id = url.split('/')[-2]\n",
    "    file_path = 'https://drive.google.com/uc?export=download&id=' + file_id\n",
    "    data = pd.read_csv(file_path)\n",
    "\n",
    "    return data"
   ]
  },
  {
   "cell_type": "code",
   "execution_count": 7,
   "metadata": {},
   "outputs": [],
   "source": [
    "# init lemmatizer to avoid slow performance\n",
    "mystem = Mystem() \n",
    "\n",
    "def word_tokenize_clean(doc: str, stop_words: list):\n",
    "    '''\n",
    "    tokenize from string to list of words\n",
    "    '''\n",
    "\n",
    "    # split into lower case word tokens \\w lemmatization\n",
    "    tokens = list(set(mystem.lemmatize(doc.lower())))\n",
    "  \n",
    "    # remove tokens that are not alphabetic (including punctuation) and not a stop word\n",
    "    tokens = [word for word in tokens if word.isalpha() and not word in stop_words \\\n",
    "              not in list(punctuation)]\n",
    "    return tokens"
   ]
  },
  {
   "cell_type": "markdown",
   "metadata": {},
   "source": [
    "# 2. Main"
   ]
  },
  {
   "cell_type": "markdown",
   "metadata": {},
   "source": [
    "## 2.1. Data Preparation"
   ]
  },
  {
   "cell_type": "code",
   "execution_count": 8,
   "metadata": {},
   "outputs": [
    {
     "data": {
      "text/html": [
       "<div>\n",
       "<style scoped>\n",
       "    .dataframe tbody tr th:only-of-type {\n",
       "        vertical-align: middle;\n",
       "    }\n",
       "\n",
       "    .dataframe tbody tr th {\n",
       "        vertical-align: top;\n",
       "    }\n",
       "\n",
       "    .dataframe thead th {\n",
       "        text-align: right;\n",
       "    }\n",
       "</style>\n",
       "<table border=\"1\" class=\"dataframe\">\n",
       "  <thead>\n",
       "    <tr style=\"text-align: right;\">\n",
       "      <th></th>\n",
       "      <th>adult</th>\n",
       "      <th>belongs_to_collection</th>\n",
       "      <th>budget</th>\n",
       "      <th>genres</th>\n",
       "      <th>homepage</th>\n",
       "      <th>id</th>\n",
       "      <th>imdb_id</th>\n",
       "      <th>original_language</th>\n",
       "      <th>original_title</th>\n",
       "      <th>overview</th>\n",
       "      <th>...</th>\n",
       "      <th>release_date</th>\n",
       "      <th>revenue</th>\n",
       "      <th>runtime</th>\n",
       "      <th>spoken_languages</th>\n",
       "      <th>status</th>\n",
       "      <th>tagline</th>\n",
       "      <th>title</th>\n",
       "      <th>video</th>\n",
       "      <th>vote_average</th>\n",
       "      <th>vote_count</th>\n",
       "    </tr>\n",
       "  </thead>\n",
       "  <tbody>\n",
       "    <tr>\n",
       "      <th>0</th>\n",
       "      <td>False</td>\n",
       "      <td>{'id': 10194, 'name': 'Toy Story Collection', ...</td>\n",
       "      <td>30000000</td>\n",
       "      <td>[{'id': 16, 'name': 'Animation'}, {'id': 35, '...</td>\n",
       "      <td>http://toystory.disney.com/toy-story</td>\n",
       "      <td>862</td>\n",
       "      <td>tt0114709</td>\n",
       "      <td>en</td>\n",
       "      <td>Toy Story</td>\n",
       "      <td>Led by Woody, Andy's toys live happily in his ...</td>\n",
       "      <td>...</td>\n",
       "      <td>1995-10-30</td>\n",
       "      <td>373554033.0</td>\n",
       "      <td>81.0</td>\n",
       "      <td>[{'iso_639_1': 'en', 'name': 'English'}]</td>\n",
       "      <td>Released</td>\n",
       "      <td>NaN</td>\n",
       "      <td>Toy Story</td>\n",
       "      <td>False</td>\n",
       "      <td>7.7</td>\n",
       "      <td>5415.0</td>\n",
       "    </tr>\n",
       "    <tr>\n",
       "      <th>1</th>\n",
       "      <td>False</td>\n",
       "      <td>NaN</td>\n",
       "      <td>65000000</td>\n",
       "      <td>[{'id': 12, 'name': 'Adventure'}, {'id': 14, '...</td>\n",
       "      <td>NaN</td>\n",
       "      <td>8844</td>\n",
       "      <td>tt0113497</td>\n",
       "      <td>en</td>\n",
       "      <td>Jumanji</td>\n",
       "      <td>When siblings Judy and Peter discover an encha...</td>\n",
       "      <td>...</td>\n",
       "      <td>1995-12-15</td>\n",
       "      <td>262797249.0</td>\n",
       "      <td>104.0</td>\n",
       "      <td>[{'iso_639_1': 'en', 'name': 'English'}, {'iso...</td>\n",
       "      <td>Released</td>\n",
       "      <td>Roll the dice and unleash the excitement!</td>\n",
       "      <td>Jumanji</td>\n",
       "      <td>False</td>\n",
       "      <td>6.9</td>\n",
       "      <td>2413.0</td>\n",
       "    </tr>\n",
       "    <tr>\n",
       "      <th>2</th>\n",
       "      <td>False</td>\n",
       "      <td>{'id': 119050, 'name': 'Grumpy Old Men Collect...</td>\n",
       "      <td>0</td>\n",
       "      <td>[{'id': 10749, 'name': 'Romance'}, {'id': 35, ...</td>\n",
       "      <td>NaN</td>\n",
       "      <td>15602</td>\n",
       "      <td>tt0113228</td>\n",
       "      <td>en</td>\n",
       "      <td>Grumpier Old Men</td>\n",
       "      <td>A family wedding reignites the ancient feud be...</td>\n",
       "      <td>...</td>\n",
       "      <td>1995-12-22</td>\n",
       "      <td>0.0</td>\n",
       "      <td>101.0</td>\n",
       "      <td>[{'iso_639_1': 'en', 'name': 'English'}]</td>\n",
       "      <td>Released</td>\n",
       "      <td>Still Yelling. Still Fighting. Still Ready for...</td>\n",
       "      <td>Grumpier Old Men</td>\n",
       "      <td>False</td>\n",
       "      <td>6.5</td>\n",
       "      <td>92.0</td>\n",
       "    </tr>\n",
       "  </tbody>\n",
       "</table>\n",
       "<p>3 rows × 24 columns</p>\n",
       "</div>"
      ],
      "text/plain": [
       "   adult                              belongs_to_collection    budget  \\\n",
       "0  False  {'id': 10194, 'name': 'Toy Story Collection', ...  30000000   \n",
       "1  False                                                NaN  65000000   \n",
       "2  False  {'id': 119050, 'name': 'Grumpy Old Men Collect...         0   \n",
       "\n",
       "                                              genres  \\\n",
       "0  [{'id': 16, 'name': 'Animation'}, {'id': 35, '...   \n",
       "1  [{'id': 12, 'name': 'Adventure'}, {'id': 14, '...   \n",
       "2  [{'id': 10749, 'name': 'Romance'}, {'id': 35, ...   \n",
       "\n",
       "                               homepage     id    imdb_id original_language  \\\n",
       "0  http://toystory.disney.com/toy-story    862  tt0114709                en   \n",
       "1                                   NaN   8844  tt0113497                en   \n",
       "2                                   NaN  15602  tt0113228                en   \n",
       "\n",
       "     original_title                                           overview  ...  \\\n",
       "0         Toy Story  Led by Woody, Andy's toys live happily in his ...  ...   \n",
       "1           Jumanji  When siblings Judy and Peter discover an encha...  ...   \n",
       "2  Grumpier Old Men  A family wedding reignites the ancient feud be...  ...   \n",
       "\n",
       "  release_date      revenue runtime  \\\n",
       "0   1995-10-30  373554033.0    81.0   \n",
       "1   1995-12-15  262797249.0   104.0   \n",
       "2   1995-12-22          0.0   101.0   \n",
       "\n",
       "                                    spoken_languages    status  \\\n",
       "0           [{'iso_639_1': 'en', 'name': 'English'}]  Released   \n",
       "1  [{'iso_639_1': 'en', 'name': 'English'}, {'iso...  Released   \n",
       "2           [{'iso_639_1': 'en', 'name': 'English'}]  Released   \n",
       "\n",
       "                                             tagline             title  video  \\\n",
       "0                                                NaN         Toy Story  False   \n",
       "1          Roll the dice and unleash the excitement!           Jumanji  False   \n",
       "2  Still Yelling. Still Fighting. Still Ready for...  Grumpier Old Men  False   \n",
       "\n",
       "  vote_average vote_count  \n",
       "0          7.7     5415.0  \n",
       "1          6.9     2413.0  \n",
       "2          6.5       92.0  \n",
       "\n",
       "[3 rows x 24 columns]"
      ]
     },
     "execution_count": 8,
     "metadata": {},
     "output_type": "execute_result"
    }
   ],
   "source": [
    "# read csv information about films etc\n",
    "movies_metadata = read_csv_from_gdrive(MOVIES_METADATA_URL)\n",
    "movies_metadata.head(3)"
   ]
  },
  {
   "cell_type": "code",
   "execution_count": 9,
   "metadata": {},
   "outputs": [],
   "source": [
    "# extracting genres\n",
    "movies_metadata['genres'] = movies_metadata['genres'].fillna('[]').apply(literal_eval).apply(lambda x: [i['name'] for i in x] if isinstance(x, list) else [])\n",
    "\n",
    "movies_metadata['genrestr'] = [','.join(map(str, l)) for l in movies_metadata['genres']]"
   ]
  },
  {
   "cell_type": "code",
   "execution_count": 10,
   "metadata": {},
   "outputs": [
    {
     "data": {
      "text/html": [
       "<div>\n",
       "<style scoped>\n",
       "    .dataframe tbody tr th:only-of-type {\n",
       "        vertical-align: middle;\n",
       "    }\n",
       "\n",
       "    .dataframe tbody tr th {\n",
       "        vertical-align: top;\n",
       "    }\n",
       "\n",
       "    .dataframe thead th {\n",
       "        text-align: right;\n",
       "    }\n",
       "</style>\n",
       "<table border=\"1\" class=\"dataframe\">\n",
       "  <thead>\n",
       "    <tr style=\"text-align: right;\">\n",
       "      <th></th>\n",
       "      <th>adult</th>\n",
       "      <th>belongs_to_collection</th>\n",
       "      <th>budget</th>\n",
       "      <th>genres</th>\n",
       "      <th>homepage</th>\n",
       "      <th>id</th>\n",
       "      <th>imdb_id</th>\n",
       "      <th>original_language</th>\n",
       "      <th>original_title</th>\n",
       "      <th>overview</th>\n",
       "      <th>...</th>\n",
       "      <th>revenue</th>\n",
       "      <th>runtime</th>\n",
       "      <th>spoken_languages</th>\n",
       "      <th>status</th>\n",
       "      <th>tagline</th>\n",
       "      <th>title</th>\n",
       "      <th>video</th>\n",
       "      <th>vote_average</th>\n",
       "      <th>vote_count</th>\n",
       "      <th>genrestr</th>\n",
       "    </tr>\n",
       "  </thead>\n",
       "  <tbody>\n",
       "    <tr>\n",
       "      <th>0</th>\n",
       "      <td>False</td>\n",
       "      <td>{'id': 10194, 'name': 'Toy Story Collection', ...</td>\n",
       "      <td>30000000</td>\n",
       "      <td>[Animation, Comedy, Family]</td>\n",
       "      <td>http://toystory.disney.com/toy-story</td>\n",
       "      <td>862</td>\n",
       "      <td>tt0114709</td>\n",
       "      <td>en</td>\n",
       "      <td>Toy Story</td>\n",
       "      <td>Led by Woody, Andy's toys live happily in his ...</td>\n",
       "      <td>...</td>\n",
       "      <td>373554033.0</td>\n",
       "      <td>81.0</td>\n",
       "      <td>[{'iso_639_1': 'en', 'name': 'English'}]</td>\n",
       "      <td>Released</td>\n",
       "      <td>NaN</td>\n",
       "      <td>Toy Story</td>\n",
       "      <td>False</td>\n",
       "      <td>7.7</td>\n",
       "      <td>5415.0</td>\n",
       "      <td>Animation,Comedy,Family</td>\n",
       "    </tr>\n",
       "    <tr>\n",
       "      <th>1</th>\n",
       "      <td>False</td>\n",
       "      <td>NaN</td>\n",
       "      <td>65000000</td>\n",
       "      <td>[Adventure, Fantasy, Family]</td>\n",
       "      <td>NaN</td>\n",
       "      <td>8844</td>\n",
       "      <td>tt0113497</td>\n",
       "      <td>en</td>\n",
       "      <td>Jumanji</td>\n",
       "      <td>When siblings Judy and Peter discover an encha...</td>\n",
       "      <td>...</td>\n",
       "      <td>262797249.0</td>\n",
       "      <td>104.0</td>\n",
       "      <td>[{'iso_639_1': 'en', 'name': 'English'}, {'iso...</td>\n",
       "      <td>Released</td>\n",
       "      <td>Roll the dice and unleash the excitement!</td>\n",
       "      <td>Jumanji</td>\n",
       "      <td>False</td>\n",
       "      <td>6.9</td>\n",
       "      <td>2413.0</td>\n",
       "      <td>Adventure,Fantasy,Family</td>\n",
       "    </tr>\n",
       "    <tr>\n",
       "      <th>2</th>\n",
       "      <td>False</td>\n",
       "      <td>{'id': 119050, 'name': 'Grumpy Old Men Collect...</td>\n",
       "      <td>0</td>\n",
       "      <td>[Romance, Comedy]</td>\n",
       "      <td>NaN</td>\n",
       "      <td>15602</td>\n",
       "      <td>tt0113228</td>\n",
       "      <td>en</td>\n",
       "      <td>Grumpier Old Men</td>\n",
       "      <td>A family wedding reignites the ancient feud be...</td>\n",
       "      <td>...</td>\n",
       "      <td>0.0</td>\n",
       "      <td>101.0</td>\n",
       "      <td>[{'iso_639_1': 'en', 'name': 'English'}]</td>\n",
       "      <td>Released</td>\n",
       "      <td>Still Yelling. Still Fighting. Still Ready for...</td>\n",
       "      <td>Grumpier Old Men</td>\n",
       "      <td>False</td>\n",
       "      <td>6.5</td>\n",
       "      <td>92.0</td>\n",
       "      <td>Romance,Comedy</td>\n",
       "    </tr>\n",
       "  </tbody>\n",
       "</table>\n",
       "<p>3 rows × 25 columns</p>\n",
       "</div>"
      ],
      "text/plain": [
       "   adult                              belongs_to_collection    budget  \\\n",
       "0  False  {'id': 10194, 'name': 'Toy Story Collection', ...  30000000   \n",
       "1  False                                                NaN  65000000   \n",
       "2  False  {'id': 119050, 'name': 'Grumpy Old Men Collect...         0   \n",
       "\n",
       "                         genres                              homepage     id  \\\n",
       "0   [Animation, Comedy, Family]  http://toystory.disney.com/toy-story    862   \n",
       "1  [Adventure, Fantasy, Family]                                   NaN   8844   \n",
       "2             [Romance, Comedy]                                   NaN  15602   \n",
       "\n",
       "     imdb_id original_language    original_title  \\\n",
       "0  tt0114709                en         Toy Story   \n",
       "1  tt0113497                en           Jumanji   \n",
       "2  tt0113228                en  Grumpier Old Men   \n",
       "\n",
       "                                            overview  ...      revenue  \\\n",
       "0  Led by Woody, Andy's toys live happily in his ...  ...  373554033.0   \n",
       "1  When siblings Judy and Peter discover an encha...  ...  262797249.0   \n",
       "2  A family wedding reignites the ancient feud be...  ...          0.0   \n",
       "\n",
       "  runtime                                   spoken_languages    status  \\\n",
       "0    81.0           [{'iso_639_1': 'en', 'name': 'English'}]  Released   \n",
       "1   104.0  [{'iso_639_1': 'en', 'name': 'English'}, {'iso...  Released   \n",
       "2   101.0           [{'iso_639_1': 'en', 'name': 'English'}]  Released   \n",
       "\n",
       "                                             tagline             title  video  \\\n",
       "0                                                NaN         Toy Story  False   \n",
       "1          Roll the dice and unleash the excitement!           Jumanji  False   \n",
       "2  Still Yelling. Still Fighting. Still Ready for...  Grumpier Old Men  False   \n",
       "\n",
       "  vote_average vote_count                  genrestr  \n",
       "0          7.7     5415.0   Animation,Comedy,Family  \n",
       "1          6.9     2413.0  Adventure,Fantasy,Family  \n",
       "2          6.5       92.0            Romance,Comedy  \n",
       "\n",
       "[3 rows x 25 columns]"
      ]
     },
     "execution_count": 10,
     "metadata": {},
     "output_type": "execute_result"
    }
   ],
   "source": [
    "movies_metadata.head(3)"
   ]
  },
  {
   "cell_type": "code",
   "execution_count": 11,
   "metadata": {},
   "outputs": [
    {
     "data": {
      "text/plain": [
       "Index(['adult', 'belongs_to_collection', 'budget', 'genres', 'homepage', 'id',\n",
       "       'imdb_id', 'original_language', 'original_title', 'overview',\n",
       "       'popularity', 'poster_path', 'production_companies',\n",
       "       'production_countries', 'release_date', 'revenue', 'runtime',\n",
       "       'spoken_languages', 'status', 'tagline', 'title', 'video',\n",
       "       'vote_average', 'vote_count', 'genrestr'],\n",
       "      dtype='object')"
      ]
     },
     "execution_count": 11,
     "metadata": {},
     "output_type": "execute_result"
    }
   ],
   "source": [
    "# let's see what columns we have\n",
    "movies_metadata.columns"
   ]
  },
  {
   "cell_type": "markdown",
   "metadata": {},
   "source": [
    "To get accurate results we need to preprocess text a bit. The pipeline will be as follows:\n",
    "\n",
    "- Filter only necessary columns from movies_metadada : id, original_title, overview;\n",
    "- Define `model_index` for model to match back with `id` column;\n",
    "- Text cleaning: removing stopwords & punctuation, lemmatization for further tokenization and tagged document creatin required for gensim.Doc2Vec"
   ]
  },
  {
   "cell_type": "code",
   "execution_count": 12,
   "metadata": {},
   "outputs": [
    {
     "name": "stdout",
     "output_type": "stream",
     "text": [
      "<class 'pandas.core.frame.DataFrame'>\n",
      "RangeIndex: 45466 entries, 0 to 45465\n",
      "Data columns (total 3 columns):\n",
      " #   Column          Non-Null Count  Dtype \n",
      "---  ------          --------------  ----- \n",
      " 0   id              45466 non-null  object\n",
      " 1   original_title  45466 non-null  object\n",
      " 2   overview        44512 non-null  object\n",
      "dtypes: object(3)\n",
      "memory usage: 1.0+ MB\n"
     ]
    }
   ],
   "source": [
    "# filter cols\n",
    "sample = movies_metadata[['id', 'original_title', 'overview']].copy()\n",
    "sample.info()"
   ]
  },
  {
   "cell_type": "code",
   "execution_count": 13,
   "metadata": {},
   "outputs": [
    {
     "data": {
      "text/plain": [
       "id                0\n",
       "original_title    0\n",
       "overview          0\n",
       "dtype: int64"
      ]
     },
     "execution_count": 13,
     "metadata": {},
     "output_type": "execute_result"
    }
   ],
   "source": [
    "# as you see from above, we have missing overview in some cases -- let's fill it with the original title\n",
    "sample.loc[sample['overview'].isnull(), 'overview'] = sample.loc[sample['overview'].isnull(), 'original_title']\n",
    "sample.isnull().sum()"
   ]
  },
  {
   "cell_type": "code",
   "execution_count": 14,
   "metadata": {},
   "outputs": [],
   "source": [
    "# define model_index and make it as string\n",
    "sample = sample.reset_index().rename(columns = {'index': 'model_index'})\n",
    "sample['model_index'] = sample['model_index'].astype(str)"
   ]
  },
  {
   "cell_type": "code",
   "execution_count": 15,
   "metadata": {},
   "outputs": [],
   "source": [
    "# create mapper with title and model_idnex to use it further in evaluation\n",
    "movies_inv_mapper = dict(zip(sample['original_title'].str.lower(), sample['model_index'].astype(int)))"
   ]
  },
  {
   "cell_type": "code",
   "execution_count": 16,
   "metadata": {},
   "outputs": [],
   "source": [
    "# preprocess by removing non-character data, stopwords\n",
    "tags_corpus = sample['overview'].values\n",
    "tags_corpus = [re.sub('-[!/()0-9]', '', x) for x in tags_corpus]\n",
    "stop_words = stopwords.words('english')\n",
    "\n",
    "#tags_doc = [word_tokenize_clean(description, stop_words) for description in tags_corpus]\n",
    "#tags_doc[:1]"
   ]
  },
  {
   "cell_type": "code",
   "execution_count": 94,
   "metadata": {},
   "outputs": [],
   "source": [
    "list_id = list(sample[\"model_index\"])"
   ]
  },
  {
   "cell_type": "code",
   "execution_count": 95,
   "metadata": {},
   "outputs": [],
   "source": [
    "# prepare data as model input for Word2Vec\n",
    "## it takes some time to execute\n",
    "tags_doc = [TaggedDocument(words = word_tokenize_clean(D, stop_words), tags = [list_id[i]]) for i, D in enumerate(tags_corpus)]"
   ]
  },
  {
   "cell_type": "code",
   "execution_count": 96,
   "metadata": {},
   "outputs": [
    {
     "data": {
      "text/plain": [
       "TaggedDocument(words=['inside', 'peter', 'finish', 'board', 'years', 'alan', 'monkeys', 'giant', 'evil', 'siblings', 'game', 'door', 'risky', 'freedom', 'proves', 'discover', 'world', 'creatures', 'running', 'invite', 'trapped', 'find', 'terrifying', 'unwittingly', 'room', 'adult', 'magical', 'enchanted', 'hope', 'rhinoceroses', 'three', 'judy', 'opens', 'living'], tags=['1'])"
      ]
     },
     "execution_count": 96,
     "metadata": {},
     "output_type": "execute_result"
    }
   ],
   "source": [
    "# let's check what do we have\n",
    "## tag = movie index\n",
    "tags_doc[1]"
   ]
  },
  {
   "cell_type": "markdown",
   "metadata": {},
   "source": [
    "# 2.2. Model Training and Evaluation"
   ]
  },
  {
   "cell_type": "code",
   "execution_count": 101,
   "metadata": {},
   "outputs": [],
   "source": [
    "VEC_SIZE = 50\n",
    "ALPHA = .02\n",
    "MIN_ALPHA = .00025\n",
    "MIN_COUNT = 5\n",
    "EPOCHS = 20"
   ]
  },
  {
   "cell_type": "code",
   "execution_count": 102,
   "metadata": {},
   "outputs": [],
   "source": [
    "# initialize\n",
    "modelold = Doc2Vec(vector_size = VEC_SIZE,\n",
    "                alpha = ALPHA, \n",
    "                min_alpha = MIN_ALPHA,\n",
    "                min_count = MIN_COUNT,\n",
    "                dm = 0)"
   ]
  },
  {
   "cell_type": "code",
   "execution_count": 103,
   "metadata": {},
   "outputs": [],
   "source": [
    "# generate vocab from all tag docs\n",
    "modelold.build_vocab(tags_doc)"
   ]
  },
  {
   "cell_type": "code",
   "execution_count": 104,
   "metadata": {},
   "outputs": [],
   "source": [
    "# train model\n",
    "modelold.train(tags_doc,\n",
    "            total_examples = model.corpus_count,\n",
    "            epochs = EPOCHS)"
   ]
  },
  {
   "cell_type": "code",
   "execution_count": 105,
   "metadata": {},
   "outputs": [],
   "source": [
    "# d2v_model__vectors = model.wv\n"
   ]
  },
  {
   "cell_type": "code",
   "execution_count": 106,
   "metadata": {},
   "outputs": [],
   "source": [
    "#len(model.wv.index_to_key)"
   ]
  },
  {
   "cell_type": "markdown",
   "metadata": {
    "tags": []
   },
   "source": [
    "## 2.3. Evaluate the model"
   ]
  },
  {
   "cell_type": "markdown",
   "metadata": {},
   "source": [
    "Let's assume that we watched movie `batman` and based on that generate recommendation similar to it's description.\n",
    "\n",
    "To do that we need\n",
    "- To extract movie id from `movies_inv_mapper` we created to map back titles from model output\n",
    "- Load embeddings from trained model\n",
    "- Use built-in most_similar() method to get most relevant recommendations based on film embedding\n",
    "- Finally, map title names for sense-check"
   ]
  },
  {
   "cell_type": "code",
   "execution_count": 107,
   "metadata": {},
   "outputs": [
    {
     "data": {
      "text/plain": [
       "8603"
      ]
     },
     "execution_count": 107,
     "metadata": {},
     "output_type": "execute_result"
    }
   ],
   "source": [
    "# get id\n",
    "movie_id = movies_inv_mapper['batman']\n",
    "movie_id"
   ]
  },
  {
   "cell_type": "code",
   "execution_count": 108,
   "metadata": {},
   "outputs": [],
   "source": [
    "# load trained embeddings \n",
    "movies_vectors = modelold.dv.vectors"
   ]
  },
  {
   "cell_type": "code",
   "execution_count": 109,
   "metadata": {},
   "outputs": [],
   "source": [
    "movie_embeddings = movies_vectors[movie_id]"
   ]
  },
  {
   "cell_type": "code",
   "execution_count": 110,
   "metadata": {},
   "outputs": [
    {
     "data": {
      "text/plain": [
       "array([-0.00402086, -0.18914409,  0.23578025, -0.01192681, -0.10359917,\n",
       "        0.14687572, -0.36862943, -0.04082571, -0.30053365,  0.07128401,\n",
       "       -0.21177465, -0.03076162, -0.01786907, -0.25115532,  0.11679401,\n",
       "       -0.06025984,  0.31070524, -0.2583842 ,  0.20739289, -0.12631114,\n",
       "        0.14843047,  0.09829351,  0.09593343,  0.17743197,  0.2012148 ,\n",
       "        0.24840829, -0.16194923, -0.12596926,  0.24947052, -0.2123862 ,\n",
       "       -0.00535319, -0.02732727,  0.0010106 ,  0.02765717, -0.19402434,\n",
       "        0.3912428 ,  0.00758566, -0.04278211,  0.18746127,  0.19526942,\n",
       "        0.08432248,  0.06101136, -0.11213729,  0.09009279, -0.06969291,\n",
       "       -0.366152  , -0.02199329, -0.05614936, -0.16271153,  0.38250905],\n",
       "      dtype=float32)"
      ]
     },
     "execution_count": 110,
     "metadata": {},
     "output_type": "execute_result"
    }
   ],
   "source": [
    "movie_embeddings"
   ]
  },
  {
   "cell_type": "code",
   "execution_count": 111,
   "metadata": {},
   "outputs": [
    {
     "data": {
      "text/html": [
       "<div>\n",
       "<style scoped>\n",
       "    .dataframe tbody tr th:only-of-type {\n",
       "        vertical-align: middle;\n",
       "    }\n",
       "\n",
       "    .dataframe tbody tr th {\n",
       "        vertical-align: top;\n",
       "    }\n",
       "\n",
       "    .dataframe thead th {\n",
       "        text-align: right;\n",
       "    }\n",
       "</style>\n",
       "<table border=\"1\" class=\"dataframe\">\n",
       "  <thead>\n",
       "    <tr style=\"text-align: right;\">\n",
       "      <th></th>\n",
       "      <th>model_index</th>\n",
       "      <th>model_score</th>\n",
       "    </tr>\n",
       "  </thead>\n",
       "  <tbody>\n",
       "    <tr>\n",
       "      <th>0</th>\n",
       "      <td>8603</td>\n",
       "      <td>1.000000</td>\n",
       "    </tr>\n",
       "    <tr>\n",
       "      <th>1</th>\n",
       "      <td>29872</td>\n",
       "      <td>0.959175</td>\n",
       "    </tr>\n",
       "    <tr>\n",
       "      <th>2</th>\n",
       "      <td>5713</td>\n",
       "      <td>0.957196</td>\n",
       "    </tr>\n",
       "    <tr>\n",
       "      <th>3</th>\n",
       "      <td>18468</td>\n",
       "      <td>0.949700</td>\n",
       "    </tr>\n",
       "    <tr>\n",
       "      <th>4</th>\n",
       "      <td>7772</td>\n",
       "      <td>0.949264</td>\n",
       "    </tr>\n",
       "  </tbody>\n",
       "</table>\n",
       "</div>"
      ],
      "text/plain": [
       "  model_index  model_score\n",
       "0        8603     1.000000\n",
       "1       29872     0.959175\n",
       "2        5713     0.957196\n",
       "3       18468     0.949700\n",
       "4        7772     0.949264"
      ]
     },
     "execution_count": 111,
     "metadata": {},
     "output_type": "execute_result"
    }
   ],
   "source": [
    "# get recommendations\n",
    "similars = modelold.docvecs.most_similar(positive = [movie_embeddings], topn = 20)\n",
    "output = pd.DataFrame(similars, columns = ['model_index', 'model_score'])\n",
    "output.head()"
   ]
  },
  {
   "cell_type": "code",
   "execution_count": 112,
   "metadata": {},
   "outputs": [],
   "source": [
    "# create mapper with title and model_idnex to use it further in evaluation\n",
    "movies_inv_mapper = dict(zip(sample['original_title'].str.lower(), sample['model_index'].astype(int)))"
   ]
  },
  {
   "cell_type": "code",
   "execution_count": 113,
   "metadata": {},
   "outputs": [],
   "source": [
    "# reverse values and indices to map names in dataframe\n",
    "name_mapper = {v: k for k, v in movies_inv_mapper.items()}"
   ]
  },
  {
   "cell_type": "code",
   "execution_count": 114,
   "metadata": {},
   "outputs": [
    {
     "data": {
      "text/html": [
       "<div>\n",
       "<style scoped>\n",
       "    .dataframe tbody tr th:only-of-type {\n",
       "        vertical-align: middle;\n",
       "    }\n",
       "\n",
       "    .dataframe tbody tr th {\n",
       "        vertical-align: top;\n",
       "    }\n",
       "\n",
       "    .dataframe thead th {\n",
       "        text-align: right;\n",
       "    }\n",
       "</style>\n",
       "<table border=\"1\" class=\"dataframe\">\n",
       "  <thead>\n",
       "    <tr style=\"text-align: right;\">\n",
       "      <th></th>\n",
       "      <th>model_index</th>\n",
       "      <th>model_score</th>\n",
       "      <th>title_name</th>\n",
       "    </tr>\n",
       "  </thead>\n",
       "  <tbody>\n",
       "    <tr>\n",
       "      <th>0</th>\n",
       "      <td>8603</td>\n",
       "      <td>1.000000</td>\n",
       "      <td>batman</td>\n",
       "    </tr>\n",
       "    <tr>\n",
       "      <th>1</th>\n",
       "      <td>29872</td>\n",
       "      <td>0.959175</td>\n",
       "      <td>angels die hard</td>\n",
       "    </tr>\n",
       "    <tr>\n",
       "      <th>2</th>\n",
       "      <td>5713</td>\n",
       "      <td>0.957196</td>\n",
       "      <td>rollover</td>\n",
       "    </tr>\n",
       "    <tr>\n",
       "      <th>3</th>\n",
       "      <td>18468</td>\n",
       "      <td>0.949700</td>\n",
       "      <td>the incredible petrified world</td>\n",
       "    </tr>\n",
       "    <tr>\n",
       "      <th>4</th>\n",
       "      <td>7772</td>\n",
       "      <td>0.949264</td>\n",
       "      <td>this island earth</td>\n",
       "    </tr>\n",
       "    <tr>\n",
       "      <th>5</th>\n",
       "      <td>7743</td>\n",
       "      <td>0.948735</td>\n",
       "      <td>police academy: mission to moscow</td>\n",
       "    </tr>\n",
       "    <tr>\n",
       "      <th>6</th>\n",
       "      <td>29980</td>\n",
       "      <td>0.945617</td>\n",
       "      <td>some girls do</td>\n",
       "    </tr>\n",
       "    <tr>\n",
       "      <th>7</th>\n",
       "      <td>13835</td>\n",
       "      <td>0.943914</td>\n",
       "      <td>k2</td>\n",
       "    </tr>\n",
       "    <tr>\n",
       "      <th>8</th>\n",
       "      <td>44053</td>\n",
       "      <td>0.943511</td>\n",
       "      <td>arès</td>\n",
       "    </tr>\n",
       "    <tr>\n",
       "      <th>9</th>\n",
       "      <td>1045</td>\n",
       "      <td>0.942999</td>\n",
       "      <td>sleeper</td>\n",
       "    </tr>\n",
       "    <tr>\n",
       "      <th>10</th>\n",
       "      <td>19869</td>\n",
       "      <td>0.942212</td>\n",
       "      <td>the lost missile</td>\n",
       "    </tr>\n",
       "    <tr>\n",
       "      <th>11</th>\n",
       "      <td>30134</td>\n",
       "      <td>0.942108</td>\n",
       "      <td>spy</td>\n",
       "    </tr>\n",
       "    <tr>\n",
       "      <th>12</th>\n",
       "      <td>30930</td>\n",
       "      <td>0.941323</td>\n",
       "      <td>teen titans: trouble in tokyo</td>\n",
       "    </tr>\n",
       "    <tr>\n",
       "      <th>13</th>\n",
       "      <td>14178</td>\n",
       "      <td>0.940840</td>\n",
       "      <td>battle for terra</td>\n",
       "    </tr>\n",
       "    <tr>\n",
       "      <th>14</th>\n",
       "      <td>26340</td>\n",
       "      <td>0.939883</td>\n",
       "      <td>the siege of firebase gloria</td>\n",
       "    </tr>\n",
       "    <tr>\n",
       "      <th>15</th>\n",
       "      <td>25796</td>\n",
       "      <td>0.939832</td>\n",
       "      <td>les 11 commandements</td>\n",
       "    </tr>\n",
       "    <tr>\n",
       "      <th>16</th>\n",
       "      <td>40695</td>\n",
       "      <td>0.939378</td>\n",
       "      <td>krakh inzhenera garina</td>\n",
       "    </tr>\n",
       "    <tr>\n",
       "      <th>17</th>\n",
       "      <td>39972</td>\n",
       "      <td>0.939085</td>\n",
       "      <td>invaders from the deep</td>\n",
       "    </tr>\n",
       "    <tr>\n",
       "      <th>18</th>\n",
       "      <td>30711</td>\n",
       "      <td>0.938976</td>\n",
       "      <td>a la legión le gustan las mujeres... y a las m...</td>\n",
       "    </tr>\n",
       "    <tr>\n",
       "      <th>19</th>\n",
       "      <td>28001</td>\n",
       "      <td>0.938957</td>\n",
       "      <td>reach me</td>\n",
       "    </tr>\n",
       "  </tbody>\n",
       "</table>\n",
       "</div>"
      ],
      "text/plain": [
       "   model_index  model_score                                         title_name\n",
       "0         8603     1.000000                                             batman\n",
       "1        29872     0.959175                                    angels die hard\n",
       "2         5713     0.957196                                           rollover\n",
       "3        18468     0.949700                     the incredible petrified world\n",
       "4         7772     0.949264                                  this island earth\n",
       "5         7743     0.948735                  police academy: mission to moscow\n",
       "6        29980     0.945617                                      some girls do\n",
       "7        13835     0.943914                                                 k2\n",
       "8        44053     0.943511                                               arès\n",
       "9         1045     0.942999                                            sleeper\n",
       "10       19869     0.942212                                   the lost missile\n",
       "11       30134     0.942108                                                spy\n",
       "12       30930     0.941323                      teen titans: trouble in tokyo\n",
       "13       14178     0.940840                                   battle for terra\n",
       "14       26340     0.939883                       the siege of firebase gloria\n",
       "15       25796     0.939832                               les 11 commandements\n",
       "16       40695     0.939378                             krakh inzhenera garina\n",
       "17       39972     0.939085                             invaders from the deep\n",
       "18       30711     0.938976  a la legión le gustan las mujeres... y a las m...\n",
       "19       28001     0.938957                                           reach me"
      ]
     },
     "execution_count": 114,
     "metadata": {},
     "output_type": "execute_result"
    }
   ],
   "source": [
    "output['title_name'] = output['model_index'].astype(int).map(name_mapper)\n",
    "output"
   ]
  },
  {
   "cell_type": "markdown",
   "metadata": {},
   "source": [
    "# TODO"
   ]
  },
  {
   "cell_type": "markdown",
   "metadata": {
    "tags": []
   },
   "source": [
    "- Add `original_title`, `keywords`, `tagline` and other metadata to train sample and then retrain embeddings;\n",
    "- Make visualization of embeddings with links of films with each other;\n",
    "- Compare results with the embeddings we created in lecture;\n",
    "- User interactions data to make recommendations for every user using history of watches;\n",
    "- Write function get_recommendations() which takes arguments we used 2.3., but such that we can use embeddings of several watched films to get recommendations"
   ]
  },
  {
   "cell_type": "markdown",
   "metadata": {},
   "source": [
    "# Appendix"
   ]
  },
  {
   "cell_type": "markdown",
   "metadata": {},
   "source": [
    "Here, we wrap up all pipeline into functions to re-use if needed and it is just prettier to code this way :)"
   ]
  },
  {
   "cell_type": "code",
   "execution_count": 119,
   "metadata": {},
   "outputs": [],
   "source": [
    "def get_clean_tags_array(agg_tags: pd.DataFrame,\n",
    "                         text_col = 'tag'):\n",
    "    '''text preprocessing\n",
    "    '''\n",
    "    tags_corpus = agg_tags[text_col].values\n",
    "    tags_corpus = [re.sub('-[!/()0-9]', '', x) for x in tags_corpus]\n",
    "    stop_words = stopwords.words('english')\n",
    "\n",
    "\n",
    "    # preprocess corpus of movie tags before feeding it into Doc2Vec model\n",
    "    tags_doc = [TaggedDocument(words = word_tokenize_clean(D, stop_words), tags = [str(i)]) for i, D in enumerate(tags_corpus)]\n",
    "\n",
    "    return tags_doc\n"
   ]
  },
  {
   "cell_type": "code",
   "execution_count": 120,
   "metadata": {},
   "outputs": [],
   "source": [
    "def train_embeddings(tags_doc: np.array,\n",
    "                     epochs = 20,\n",
    "                     vec_size = 50,\n",
    "                     alpha = .02,\n",
    "                     min_alpha =  0.00025,\n",
    "                     min_count = 5,\n",
    "                     save_path: str = None):\n",
    "    \"\"\"\n",
    "    fit doc2vec model to prepared corpus\n",
    "    :tags_doc: result of get_clean_tags_array()\n",
    "    :max_epocs: int\n",
    "    :vec_size: int\n",
    "    :alpha: float\n",
    "    \"\"\"\n",
    "    #initialize\n",
    "    model = Doc2Vec(vector_size = vec_size,\n",
    "                    alpha = alpha, \n",
    "                    min_alpha = min_alpha,\n",
    "                    min_count = min_count,\n",
    "                    dm = 0)\n",
    "    \n",
    "    #generate vocab from all tag docs\n",
    "    model.build_vocab(tags_doc)\n",
    "    \n",
    "    #train model\n",
    "    model.train(tags_doc,\n",
    "                total_examples = model.corpus_count,\n",
    "                epochs = epochs)\n",
    "    \n",
    "    #save model to dir\n",
    "    if save_path:\n",
    "        model.save(f'{save_path}/d2v_model.pkl')\n",
    "    \n",
    "    return model"
   ]
  },
  {
   "cell_type": "code",
   "execution_count": 121,
   "metadata": {},
   "outputs": [],
   "source": [
    "def get_recommendations(model:gensim.models.doc2vec.Doc2Vec,\n",
    "                        movies_inv_mapper:dict,\n",
    "                        movienames:list):\n",
    "    '''\n",
    "    gives recommendation for several movies mentioned in the list. You can add already watched movies to the list and get recommendations.\n",
    "    INPUTS REQUIRED\n",
    "    :model created in the train embeddings function\n",
    "    :movies_inv_mapper we created to map back titles \n",
    "    :movienames to enter film embedding (name)\n",
    "    '''\n",
    "    \n",
    "    output=pd.DataFrame()\n",
    "    for i in movienames:\n",
    "        # get id\n",
    "        movie_id = movies_inv_mapper[i]\n",
    "\n",
    "        # load trained embeddings \n",
    "        movies_vectors = model.dv.vectors\n",
    "        movie_embeddings = movies_vectors[movie_id]\n",
    "\n",
    "        # get recommendations\n",
    "        similars = model.docvecs.most_similar(positive = [movie_embeddings], topn = 10)\n",
    "        temp = pd.DataFrame(similars, columns = ['model_index', 'model_score'])\n",
    "\n",
    "        # reverse values and indices to map names in dataframe\n",
    "        name_mapper = {v: k for k, v in movies_inv_mapper.items()}\n",
    "\n",
    "        temp['title_name'] = temp['model_index'].astype(int).map(name_mapper)\n",
    "        output=pd.concat([output,temp], axis=0)\n",
    "    output.drop_duplicates(\"model_index\", inplace=True)\n",
    "    return output"
   ]
  },
  {
   "cell_type": "markdown",
   "metadata": {
    "tags": []
   },
   "source": [
    "# Add original_title, keywords, tagline and other metadata to train sample and then retrain embeddings;"
   ]
  },
  {
   "cell_type": "code",
   "execution_count": 122,
   "metadata": {},
   "outputs": [
    {
     "name": "stdout",
     "output_type": "stream",
     "text": [
      "<class 'pandas.core.frame.DataFrame'>\n",
      "RangeIndex: 45466 entries, 0 to 45465\n",
      "Data columns (total 4 columns):\n",
      " #   Column          Non-Null Count  Dtype \n",
      "---  ------          --------------  ----- \n",
      " 0   id              45466 non-null  object\n",
      " 1   original_title  45466 non-null  object\n",
      " 2   overview        44512 non-null  object\n",
      " 3   tagline         20412 non-null  object\n",
      "dtypes: object(4)\n",
      "memory usage: 1.4+ MB\n"
     ]
    }
   ],
   "source": [
    "# Keep required cols\n",
    "data = movies_metadata[['id', 'original_title', 'overview', 'tagline']].copy()\n",
    "data.info()"
   ]
  },
  {
   "cell_type": "code",
   "execution_count": 123,
   "metadata": {},
   "outputs": [],
   "source": [
    "# Define model_index\n",
    "data = data.reset_index().rename(columns = {'index': 'model_index'})\n",
    "data['model_index'] = data['model_index'].astype(str)"
   ]
  },
  {
   "cell_type": "code",
   "execution_count": 124,
   "metadata": {},
   "outputs": [],
   "source": [
    "# create mapper with title and model_idnex to use it further in evaluation\n",
    "movies_inv_mapper = dict(zip(data['original_title'].str.lower(), data['model_index'].astype(int)))"
   ]
  },
  {
   "cell_type": "code",
   "execution_count": 125,
   "metadata": {},
   "outputs": [
    {
     "data": {
      "text/html": [
       "<div>\n",
       "<style scoped>\n",
       "    .dataframe tbody tr th:only-of-type {\n",
       "        vertical-align: middle;\n",
       "    }\n",
       "\n",
       "    .dataframe tbody tr th {\n",
       "        vertical-align: top;\n",
       "    }\n",
       "\n",
       "    .dataframe thead th {\n",
       "        text-align: right;\n",
       "    }\n",
       "</style>\n",
       "<table border=\"1\" class=\"dataframe\">\n",
       "  <thead>\n",
       "    <tr style=\"text-align: right;\">\n",
       "      <th></th>\n",
       "      <th>model_index</th>\n",
       "      <th>id</th>\n",
       "      <th>original_title</th>\n",
       "      <th>overview</th>\n",
       "      <th>tagline</th>\n",
       "      <th>text</th>\n",
       "    </tr>\n",
       "  </thead>\n",
       "  <tbody>\n",
       "    <tr>\n",
       "      <th>0</th>\n",
       "      <td>0</td>\n",
       "      <td>862</td>\n",
       "      <td>Toy Story</td>\n",
       "      <td>Led by Woody, Andy's toys live happily in his ...</td>\n",
       "      <td></td>\n",
       "      <td>Led by Woody, Andy's toys live happily in his ...</td>\n",
       "    </tr>\n",
       "    <tr>\n",
       "      <th>1</th>\n",
       "      <td>1</td>\n",
       "      <td>8844</td>\n",
       "      <td>Jumanji</td>\n",
       "      <td>When siblings Judy and Peter discover an encha...</td>\n",
       "      <td>Roll the dice and unleash the excitement!</td>\n",
       "      <td>When siblings Judy and Peter discover an encha...</td>\n",
       "    </tr>\n",
       "    <tr>\n",
       "      <th>2</th>\n",
       "      <td>2</td>\n",
       "      <td>15602</td>\n",
       "      <td>Grumpier Old Men</td>\n",
       "      <td>A family wedding reignites the ancient feud be...</td>\n",
       "      <td>Still Yelling. Still Fighting. Still Ready for...</td>\n",
       "      <td>A family wedding reignites the ancient feud be...</td>\n",
       "    </tr>\n",
       "    <tr>\n",
       "      <th>3</th>\n",
       "      <td>3</td>\n",
       "      <td>31357</td>\n",
       "      <td>Waiting to Exhale</td>\n",
       "      <td>Cheated on, mistreated and stepped on, the wom...</td>\n",
       "      <td>Friends are the people who let you be yourself...</td>\n",
       "      <td>Cheated on, mistreated and stepped on, the wom...</td>\n",
       "    </tr>\n",
       "    <tr>\n",
       "      <th>4</th>\n",
       "      <td>4</td>\n",
       "      <td>11862</td>\n",
       "      <td>Father of the Bride Part II</td>\n",
       "      <td>Just when George Banks has recovered from his ...</td>\n",
       "      <td>Just When His World Is Back To Normal... He's ...</td>\n",
       "      <td>Just when George Banks has recovered from his ...</td>\n",
       "    </tr>\n",
       "  </tbody>\n",
       "</table>\n",
       "</div>"
      ],
      "text/plain": [
       "  model_index     id               original_title  \\\n",
       "0           0    862                    Toy Story   \n",
       "1           1   8844                      Jumanji   \n",
       "2           2  15602             Grumpier Old Men   \n",
       "3           3  31357            Waiting to Exhale   \n",
       "4           4  11862  Father of the Bride Part II   \n",
       "\n",
       "                                            overview  \\\n",
       "0  Led by Woody, Andy's toys live happily in his ...   \n",
       "1  When siblings Judy and Peter discover an encha...   \n",
       "2  A family wedding reignites the ancient feud be...   \n",
       "3  Cheated on, mistreated and stepped on, the wom...   \n",
       "4  Just when George Banks has recovered from his ...   \n",
       "\n",
       "                                             tagline  \\\n",
       "0                                                      \n",
       "1          Roll the dice and unleash the excitement!   \n",
       "2  Still Yelling. Still Fighting. Still Ready for...   \n",
       "3  Friends are the people who let you be yourself...   \n",
       "4  Just When His World Is Back To Normal... He's ...   \n",
       "\n",
       "                                                text  \n",
       "0  Led by Woody, Andy's toys live happily in his ...  \n",
       "1  When siblings Judy and Peter discover an encha...  \n",
       "2  A family wedding reignites the ancient feud be...  \n",
       "3  Cheated on, mistreated and stepped on, the wom...  \n",
       "4  Just when George Banks has recovered from his ...  "
      ]
     },
     "execution_count": 125,
     "metadata": {},
     "output_type": "execute_result"
    }
   ],
   "source": [
    "#Create corpus text for the model - dropping tagline as the data has a lot of empty cells and removing genre as the result was not good.\n",
    "\n",
    "#data['text'] = data['original_title'] + ' ' + data['overview'] + ' ' + data['tagline']\n",
    "\n",
    "data['tagline'] = data['tagline'].fillna('')\n",
    "data['overview'] = data['overview'].fillna('')\n",
    "data['text'] = data['overview'] + data['tagline'] + data['original_title']\n",
    "data['text'] = data['text'].fillna('')\n",
    "\n",
    "data.head(5)"
   ]
  },
  {
   "cell_type": "code",
   "execution_count": 126,
   "metadata": {},
   "outputs": [
    {
     "data": {
      "text/plain": [
       "TaggedDocument(words=['local', 'next', 'grumpier', 'john', 'men', 'family', 'feud', 'old', 'cooking', 'locals', 'sultry', 'ready', 'shop', 'away', 'restaurant', 'love', 'door', 'neighbors', 'worry', 'fishing', 'italian', 'ancient', 'max', 'less', 'fish', 'alarming', 'meanwhile', 'scare', 'divorcée', 'yelling', 'time', 'still', 'buddies', 'fighting', 'bait', 'interested', 'hot', 'seafood', 'wedding', 'reignites', 'opens'], tags=['2'])"
      ]
     },
     "execution_count": 126,
     "metadata": {},
     "output_type": "execute_result"
    }
   ],
   "source": [
    "tags_final = get_clean_tags_array(data, text_col = 'text')\n",
    "tags_final[2]"
   ]
  },
  {
   "cell_type": "code",
   "execution_count": 127,
   "metadata": {},
   "outputs": [],
   "source": [
    "model = train_embeddings(tags_final,\n",
    "                     epochs =20,\n",
    "                     vec_size = 50,\n",
    "                     alpha = .02,\n",
    "                     min_alpha =  0.00025,\n",
    "                     min_count = 1)"
   ]
  },
  {
   "cell_type": "code",
   "execution_count": 128,
   "metadata": {},
   "outputs": [],
   "source": [
    "# load trained embeddings \n",
    "movies_vectors = model.dv.vectors"
   ]
  },
  {
   "cell_type": "code",
   "execution_count": 129,
   "metadata": {},
   "outputs": [
    {
     "data": {
      "text/plain": [
       "21274"
      ]
     },
     "execution_count": 129,
     "metadata": {},
     "output_type": "execute_result"
    }
   ],
   "source": [
    "# get id\n",
    "movie_id = movies_inv_mapper['othello']\n",
    "movie_id"
   ]
  },
  {
   "cell_type": "code",
   "execution_count": 130,
   "metadata": {},
   "outputs": [
    {
     "data": {
      "text/plain": [
       "array([-0.18552402, -0.10153888,  0.3800909 , -0.00125265, -0.12130503,\n",
       "       -0.05105253, -0.5775404 ,  0.03245166, -0.24417384,  0.09630401,\n",
       "       -0.13965473,  0.02845657, -0.09262538, -0.47704938,  0.22107954,\n",
       "        0.01768222,  0.2603995 , -0.28955203,  0.01348247, -0.09951144,\n",
       "        0.06378042,  0.20814317,  0.18340062,  0.11858592,  0.28941476,\n",
       "        0.28842023, -0.18437359, -0.16726844,  0.41965827, -0.13817629,\n",
       "        0.00052648,  0.00928381, -0.18744396,  0.15716937, -0.4772007 ,\n",
       "        0.12418535,  0.07591317,  0.02540495,  0.2597614 ,  0.15006948,\n",
       "        0.00253911,  0.01368909, -0.06506459,  0.2675636 , -0.18424004,\n",
       "       -0.29908955,  0.13380262, -0.31708726, -0.04211636,  0.507135  ],\n",
       "      dtype=float32)"
      ]
     },
     "execution_count": 130,
     "metadata": {},
     "output_type": "execute_result"
    }
   ],
   "source": [
    "movie_embeddings = movies_vectors[movie_id]\n",
    "movie_embeddings"
   ]
  },
  {
   "cell_type": "code",
   "execution_count": 131,
   "metadata": {},
   "outputs": [
    {
     "data": {
      "text/html": [
       "<div>\n",
       "<style scoped>\n",
       "    .dataframe tbody tr th:only-of-type {\n",
       "        vertical-align: middle;\n",
       "    }\n",
       "\n",
       "    .dataframe tbody tr th {\n",
       "        vertical-align: top;\n",
       "    }\n",
       "\n",
       "    .dataframe thead th {\n",
       "        text-align: right;\n",
       "    }\n",
       "</style>\n",
       "<table border=\"1\" class=\"dataframe\">\n",
       "  <thead>\n",
       "    <tr style=\"text-align: right;\">\n",
       "      <th></th>\n",
       "      <th>model_index</th>\n",
       "      <th>model_score</th>\n",
       "    </tr>\n",
       "  </thead>\n",
       "  <tbody>\n",
       "    <tr>\n",
       "      <th>0</th>\n",
       "      <td>21274</td>\n",
       "      <td>1.000000</td>\n",
       "    </tr>\n",
       "    <tr>\n",
       "      <th>1</th>\n",
       "      <td>32264</td>\n",
       "      <td>0.972322</td>\n",
       "    </tr>\n",
       "    <tr>\n",
       "      <th>2</th>\n",
       "      <td>30234</td>\n",
       "      <td>0.972254</td>\n",
       "    </tr>\n",
       "    <tr>\n",
       "      <th>3</th>\n",
       "      <td>22929</td>\n",
       "      <td>0.969929</td>\n",
       "    </tr>\n",
       "    <tr>\n",
       "      <th>4</th>\n",
       "      <td>18935</td>\n",
       "      <td>0.969403</td>\n",
       "    </tr>\n",
       "  </tbody>\n",
       "</table>\n",
       "</div>"
      ],
      "text/plain": [
       "  model_index  model_score\n",
       "0       21274     1.000000\n",
       "1       32264     0.972322\n",
       "2       30234     0.972254\n",
       "3       22929     0.969929\n",
       "4       18935     0.969403"
      ]
     },
     "execution_count": 131,
     "metadata": {},
     "output_type": "execute_result"
    }
   ],
   "source": [
    "# get recommendations\n",
    "similars = model.docvecs.most_similar(positive = [movie_embeddings], topn = 10)\n",
    "output = pd.DataFrame(similars, columns = ['model_index', 'model_score'])\n",
    "output.head()"
   ]
  },
  {
   "cell_type": "code",
   "execution_count": 132,
   "metadata": {},
   "outputs": [],
   "source": [
    "# reverse values and indices to map names in dataframe\n",
    "name_mapper = {v: k for k, v in movies_inv_mapper.items()}"
   ]
  },
  {
   "cell_type": "code",
   "execution_count": 133,
   "metadata": {},
   "outputs": [
    {
     "data": {
      "text/html": [
       "<div>\n",
       "<style scoped>\n",
       "    .dataframe tbody tr th:only-of-type {\n",
       "        vertical-align: middle;\n",
       "    }\n",
       "\n",
       "    .dataframe tbody tr th {\n",
       "        vertical-align: top;\n",
       "    }\n",
       "\n",
       "    .dataframe thead th {\n",
       "        text-align: right;\n",
       "    }\n",
       "</style>\n",
       "<table border=\"1\" class=\"dataframe\">\n",
       "  <thead>\n",
       "    <tr style=\"text-align: right;\">\n",
       "      <th></th>\n",
       "      <th>model_index</th>\n",
       "      <th>model_score</th>\n",
       "      <th>title_name</th>\n",
       "    </tr>\n",
       "  </thead>\n",
       "  <tbody>\n",
       "    <tr>\n",
       "      <th>0</th>\n",
       "      <td>21274</td>\n",
       "      <td>1.000000</td>\n",
       "      <td>othello</td>\n",
       "    </tr>\n",
       "    <tr>\n",
       "      <th>1</th>\n",
       "      <td>32264</td>\n",
       "      <td>0.972322</td>\n",
       "      <td>return to mayberry</td>\n",
       "    </tr>\n",
       "    <tr>\n",
       "      <th>2</th>\n",
       "      <td>30234</td>\n",
       "      <td>0.972254</td>\n",
       "      <td>NaN</td>\n",
       "    </tr>\n",
       "    <tr>\n",
       "      <th>3</th>\n",
       "      <td>22929</td>\n",
       "      <td>0.969929</td>\n",
       "      <td>the adventures of hajji baba</td>\n",
       "    </tr>\n",
       "    <tr>\n",
       "      <th>4</th>\n",
       "      <td>18935</td>\n",
       "      <td>0.969403</td>\n",
       "      <td>the forgiveness of blood</td>\n",
       "    </tr>\n",
       "    <tr>\n",
       "      <th>5</th>\n",
       "      <td>18647</td>\n",
       "      <td>0.969040</td>\n",
       "      <td>mail order bride</td>\n",
       "    </tr>\n",
       "    <tr>\n",
       "      <th>6</th>\n",
       "      <td>21692</td>\n",
       "      <td>0.967865</td>\n",
       "      <td>les salauds</td>\n",
       "    </tr>\n",
       "    <tr>\n",
       "      <th>7</th>\n",
       "      <td>27496</td>\n",
       "      <td>0.967197</td>\n",
       "      <td>i want a dog for christmas, charlie brown</td>\n",
       "    </tr>\n",
       "    <tr>\n",
       "      <th>8</th>\n",
       "      <td>28836</td>\n",
       "      <td>0.967178</td>\n",
       "      <td>the no mercy man</td>\n",
       "    </tr>\n",
       "    <tr>\n",
       "      <th>9</th>\n",
       "      <td>34417</td>\n",
       "      <td>0.966742</td>\n",
       "      <td>kachche dhaage</td>\n",
       "    </tr>\n",
       "  </tbody>\n",
       "</table>\n",
       "</div>"
      ],
      "text/plain": [
       "  model_index  model_score                                 title_name\n",
       "0       21274     1.000000                                    othello\n",
       "1       32264     0.972322                         return to mayberry\n",
       "2       30234     0.972254                                        NaN\n",
       "3       22929     0.969929               the adventures of hajji baba\n",
       "4       18935     0.969403                   the forgiveness of blood\n",
       "5       18647     0.969040                           mail order bride\n",
       "6       21692     0.967865                                les salauds\n",
       "7       27496     0.967197  i want a dog for christmas, charlie brown\n",
       "8       28836     0.967178                           the no mercy man\n",
       "9       34417     0.966742                             kachche dhaage"
      ]
     },
     "execution_count": 133,
     "metadata": {},
     "output_type": "execute_result"
    }
   ],
   "source": [
    "output['title_name'] = output['model_index'].astype(int).map(name_mapper)\n",
    "output\n",
    "#Note - need to check the NAN's. Issue is due to different movies with same name so reverse mapping creates an issue (will address later)"
   ]
  },
  {
   "cell_type": "code",
   "execution_count": 134,
   "metadata": {},
   "outputs": [
    {
     "data": {
      "text/html": [
       "<div>\n",
       "<style scoped>\n",
       "    .dataframe tbody tr th:only-of-type {\n",
       "        vertical-align: middle;\n",
       "    }\n",
       "\n",
       "    .dataframe tbody tr th {\n",
       "        vertical-align: top;\n",
       "    }\n",
       "\n",
       "    .dataframe thead th {\n",
       "        text-align: right;\n",
       "    }\n",
       "</style>\n",
       "<table border=\"1\" class=\"dataframe\">\n",
       "  <thead>\n",
       "    <tr style=\"text-align: right;\">\n",
       "      <th></th>\n",
       "      <th>model_index</th>\n",
       "      <th>model_score</th>\n",
       "      <th>title_name</th>\n",
       "    </tr>\n",
       "  </thead>\n",
       "  <tbody>\n",
       "    <tr>\n",
       "      <th>0</th>\n",
       "      <td>21274</td>\n",
       "      <td>1.000000</td>\n",
       "      <td>othello</td>\n",
       "    </tr>\n",
       "    <tr>\n",
       "      <th>1</th>\n",
       "      <td>32264</td>\n",
       "      <td>0.972322</td>\n",
       "      <td>return to mayberry</td>\n",
       "    </tr>\n",
       "    <tr>\n",
       "      <th>2</th>\n",
       "      <td>30234</td>\n",
       "      <td>0.972254</td>\n",
       "      <td>NaN</td>\n",
       "    </tr>\n",
       "    <tr>\n",
       "      <th>3</th>\n",
       "      <td>22929</td>\n",
       "      <td>0.969929</td>\n",
       "      <td>the adventures of hajji baba</td>\n",
       "    </tr>\n",
       "    <tr>\n",
       "      <th>4</th>\n",
       "      <td>18935</td>\n",
       "      <td>0.969403</td>\n",
       "      <td>the forgiveness of blood</td>\n",
       "    </tr>\n",
       "    <tr>\n",
       "      <th>5</th>\n",
       "      <td>18647</td>\n",
       "      <td>0.969040</td>\n",
       "      <td>mail order bride</td>\n",
       "    </tr>\n",
       "    <tr>\n",
       "      <th>6</th>\n",
       "      <td>21692</td>\n",
       "      <td>0.967865</td>\n",
       "      <td>les salauds</td>\n",
       "    </tr>\n",
       "    <tr>\n",
       "      <th>7</th>\n",
       "      <td>27496</td>\n",
       "      <td>0.967197</td>\n",
       "      <td>i want a dog for christmas, charlie brown</td>\n",
       "    </tr>\n",
       "    <tr>\n",
       "      <th>8</th>\n",
       "      <td>28836</td>\n",
       "      <td>0.967178</td>\n",
       "      <td>the no mercy man</td>\n",
       "    </tr>\n",
       "    <tr>\n",
       "      <th>9</th>\n",
       "      <td>34417</td>\n",
       "      <td>0.966742</td>\n",
       "      <td>kachche dhaage</td>\n",
       "    </tr>\n",
       "    <tr>\n",
       "      <th>0</th>\n",
       "      <td>8603</td>\n",
       "      <td>1.000000</td>\n",
       "      <td>batman</td>\n",
       "    </tr>\n",
       "    <tr>\n",
       "      <th>1</th>\n",
       "      <td>37725</td>\n",
       "      <td>0.965773</td>\n",
       "      <td>barista</td>\n",
       "    </tr>\n",
       "    <tr>\n",
       "      <th>2</th>\n",
       "      <td>12511</td>\n",
       "      <td>0.963226</td>\n",
       "      <td>the hawk is dying</td>\n",
       "    </tr>\n",
       "    <tr>\n",
       "      <th>3</th>\n",
       "      <td>5713</td>\n",
       "      <td>0.962020</td>\n",
       "      <td>rollover</td>\n",
       "    </tr>\n",
       "    <tr>\n",
       "      <th>4</th>\n",
       "      <td>43461</td>\n",
       "      <td>0.961076</td>\n",
       "      <td>megafault</td>\n",
       "    </tr>\n",
       "    <tr>\n",
       "      <th>5</th>\n",
       "      <td>34637</td>\n",
       "      <td>0.961000</td>\n",
       "      <td>capitães da areia</td>\n",
       "    </tr>\n",
       "    <tr>\n",
       "      <th>6</th>\n",
       "      <td>28001</td>\n",
       "      <td>0.960602</td>\n",
       "      <td>reach me</td>\n",
       "    </tr>\n",
       "    <tr>\n",
       "      <th>7</th>\n",
       "      <td>28418</td>\n",
       "      <td>0.960283</td>\n",
       "      <td>NaN</td>\n",
       "    </tr>\n",
       "    <tr>\n",
       "      <th>8</th>\n",
       "      <td>28148</td>\n",
       "      <td>0.959821</td>\n",
       "      <td>speed cross</td>\n",
       "    </tr>\n",
       "    <tr>\n",
       "      <th>9</th>\n",
       "      <td>9748</td>\n",
       "      <td>0.959655</td>\n",
       "      <td>NaN</td>\n",
       "    </tr>\n",
       "  </tbody>\n",
       "</table>\n",
       "</div>"
      ],
      "text/plain": [
       "  model_index  model_score                                 title_name\n",
       "0       21274     1.000000                                    othello\n",
       "1       32264     0.972322                         return to mayberry\n",
       "2       30234     0.972254                                        NaN\n",
       "3       22929     0.969929               the adventures of hajji baba\n",
       "4       18935     0.969403                   the forgiveness of blood\n",
       "5       18647     0.969040                           mail order bride\n",
       "6       21692     0.967865                                les salauds\n",
       "7       27496     0.967197  i want a dog for christmas, charlie brown\n",
       "8       28836     0.967178                           the no mercy man\n",
       "9       34417     0.966742                             kachche dhaage\n",
       "0        8603     1.000000                                     batman\n",
       "1       37725     0.965773                                    barista\n",
       "2       12511     0.963226                          the hawk is dying\n",
       "3        5713     0.962020                                   rollover\n",
       "4       43461     0.961076                                  megafault\n",
       "5       34637     0.961000                          capitães da areia\n",
       "6       28001     0.960602                                   reach me\n",
       "7       28418     0.960283                                        NaN\n",
       "8       28148     0.959821                                speed cross\n",
       "9        9748     0.959655                                        NaN"
      ]
     },
     "execution_count": 134,
     "metadata": {},
     "output_type": "execute_result"
    }
   ],
   "source": [
    "#Can run the function instead\n",
    "recomms = get_recommendations(model,movies_inv_mapper, ['othello', 'batman'])\n",
    "recomms"
   ]
  },
  {
   "cell_type": "code",
   "execution_count": 440,
   "metadata": {},
   "outputs": [],
   "source": [
    "#Visualisations"
   ]
  },
  {
   "cell_type": "code",
   "execution_count": 591,
   "metadata": {},
   "outputs": [
    {
     "data": {
      "text/plain": [
       "[('纽', 0.6142143607139587),\n",
       " ('tarmoa', 0.5582966208457947),\n",
       " ('rusia', 0.5287816524505615),\n",
       " ('fountains', 0.5250027179718018),\n",
       " ('pajamas', 0.5247198343276978),\n",
       " ('nord', 0.5185847878456116),\n",
       " ('侣', 0.5150855183601379),\n",
       " ('dama', 0.512660801410675),\n",
       " ('connais', 0.5006198883056641),\n",
       " ('suburb', 0.4944697916507721)]"
      ]
     },
     "execution_count": 591,
     "metadata": {},
     "output_type": "execute_result"
    }
   ],
   "source": [
    "model.wv.most_similar(\"batman\")"
   ]
  },
  {
   "cell_type": "code",
   "execution_count": 564,
   "metadata": {},
   "outputs": [],
   "source": [
    "doc_tags = model.dv.index_to_key"
   ]
  },
  {
   "cell_type": "code",
   "execution_count": 565,
   "metadata": {},
   "outputs": [],
   "source": [
    "X = model[doc_tags]"
   ]
  },
  {
   "cell_type": "code",
   "execution_count": 566,
   "metadata": {},
   "outputs": [],
   "source": [
    "tsne = TSNE(n_components=2)\n",
    "X_tsne = tsne.fit_transform(X)\n",
    "df = pd.DataFrame(X_tsne, index=doc_tags, columns=['x', 'y'])"
   ]
  },
  {
   "cell_type": "code",
   "execution_count": 567,
   "metadata": {},
   "outputs": [
    {
     "data": {
      "text/plain": [
       "<matplotlib.collections.PathCollection at 0x7fae213ca1c0>"
      ]
     },
     "execution_count": 567,
     "metadata": {},
     "output_type": "execute_result"
    },
    {
     "data": {
      "image/png": "[encoded data removed]",
      "text/plain": [
       "<Figure size 432x288 with 1 Axes>"
      ]
     },
     "metadata": {
      "needs_background": "light"
     },
     "output_type": "display_data"
    }
   ],
   "source": [
    "#2 dimensional t-SNE plot of hyperdimensional movie vectors\n",
    "plt.scatter(df['x'], df['y'], s=0.4, alpha=0.4)"
   ]
  },
  {
   "cell_type": "code",
   "execution_count": 135,
   "metadata": {},
   "outputs": [],
   "source": [
    "def tsnescatterplot(model, word, list_names):\n",
    "    \"\"\" Plot vectors of a query word with list of most similar words, and a list of words.\n",
    "    \"\"\"\n",
    "    arrays = np.empty((0, 50), dtype='f')\n",
    "    word_labels = [word]\n",
    "    color_list  = ['red']\n",
    "\n",
    "    # adds the vector of the query word\n",
    "    arrays = np.append(arrays, model.wv.__getitem__([word]), axis=0)\n",
    "    \n",
    "    # gets list of most similar words\n",
    "    close_words = model.wv.most_similar([word])\n",
    "    \n",
    "    # adds the vector for each of the closest words to the array\n",
    "    for wrd_score in close_words:\n",
    "        wrd_vector = model.wv.__getitem__([wrd_score[0]])\n",
    "        word_labels.append(wrd_score[0])\n",
    "        color_list.append('blue')\n",
    "        arrays = np.append(arrays, wrd_vector, axis=0)\n",
    "    \n",
    "    # adds the vector for each of the words from list_names to the array\n",
    "    for wrd in list_names:\n",
    "        wrd_vector = model.wv.__getitem__([wrd])\n",
    "        word_labels.append(wrd)\n",
    "        color_list.append('green')\n",
    "        arrays = np.append(arrays, wrd_vector, axis=0)\n",
    "        \n",
    "    # Reduces the dimensionality from 50 to 10 dimensions with PCA\n",
    "    reduce = PCA(n_components=10).fit_transform(arrays)\n",
    "    \n",
    "    # Finds t-SNE coordinates for 2 dimensions\n",
    "    np.set_printoptions(suppress=True)\n",
    "    \n",
    "    Y = TSNE(n_components=2, random_state=0, perplexity=15).fit_transform(reduce)\n",
    "    \n",
    "    # Sets everything\n",
    "    df = pd.DataFrame({'x': [x for x in Y[:, 0]],\n",
    "                       'y': [y for y in Y[:, 1]],\n",
    "                       'words': word_labels,\n",
    "                       'color': color_list})\n",
    "    \n",
    "    fig, _ = plt.subplots()\n",
    "    fig.set_size_inches(9, 9)\n",
    "    \n",
    "    # Basic plot\n",
    "    p1 = sns.regplot(data=df,\n",
    "                     x=\"x\",\n",
    "                     y=\"y\",\n",
    "                     fit_reg=False,\n",
    "                     marker=\"o\",\n",
    "                     scatter_kws={'s': 40,\n",
    "                                  'facecolors': df['color']\n",
    "                                 }\n",
    "                    )\n",
    "    \n",
    "    # Adds annotations with a loop\n",
    "    for line in range(0, df.shape[0]):\n",
    "         p1.text(df[\"x\"][line],\n",
    "                 df['y'][line],\n",
    "                 '  ' + df[\"words\"][line].title(),\n",
    "                 horizontalalignment='left',\n",
    "                 verticalalignment='bottom', size='medium',\n",
    "                 color=df['color'][line],\n",
    "                 weight='normal'\n",
    "                ).set_size(15)\n",
    "\n",
    "    \n",
    "    plt.xlim(Y[:, 0].min()-50, Y[:, 0].max()+50)\n",
    "    plt.ylim(Y[:, 1].min()-50, Y[:, 1].max()+50)\n",
    "            \n",
    "    plt.title('t-SNE visualization for {}'.format(word.title()))\n",
    "    "
   ]
  },
  {
   "cell_type": "code",
   "execution_count": 148,
   "metadata": {},
   "outputs": [
    {
     "data": {
      "image/png": "[encoded data removed]",
      "text/plain": [
       "<Figure size 648x648 with 1 Axes>"
      ]
     },
     "metadata": {},
     "output_type": "display_data"
    }
   ],
   "source": [
    "#Similarity graph - here we can input a movie/word and see list of similar words in blue from the model. The closer they are postioned to batman higher the similarity. \n",
    "#Words in green are user inputs (just a depiction) to show dissimilarity. To see this, we can input one similar word 'scream' in this example and see that even though in\n",
    "#green because it's close to the movie we can see it's closer to our target word in the graph.\n",
    "\n",
    "tsnescatterplot(model, 'batman', ['dog', 'bird', 'cat', 'winter', 'summer', 'night', 'scream'])\n"
   ]
  },
  {
   "cell_type": "markdown",
   "metadata": {},
   "source": [
    "User interactions data to make recommendations for every user using history of watches; \n",
    "So we will make a function where we will input user data and user id and then based on top 5 movies they watched based on ratings, \n",
    "we will recommend 10 similar movies using doc2vec."
   ]
  },
  {
   "cell_type": "code",
   "execution_count": 149,
   "metadata": {},
   "outputs": [],
   "source": [
    "# Reading interaction data:\n",
    "ratings = read_csv_from_gdrive(RATINGS_SMALL_URL)"
   ]
  },
  {
   "cell_type": "code",
   "execution_count": 153,
   "metadata": {},
   "outputs": [],
   "source": [
    "movie_dataset=movies_metadata\n",
    "ratings['movieId'] = ratings['movieId'].astype(str)\n",
    "movie_dataset.rename(columns = {'id': 'movieId'}, inplace = True)"
   ]
  },
  {
   "cell_type": "code",
   "execution_count": 154,
   "metadata": {},
   "outputs": [],
   "source": [
    "merged_dataset = pd.merge(ratings, movie_dataset, how='inner', on='movieId')\n",
    "merged_dataset = merged_dataset.sort_values(\"timestamp\",ascending=False)"
   ]
  },
  {
   "cell_type": "code",
   "execution_count": 155,
   "metadata": {},
   "outputs": [],
   "source": [
    "merged_dataset.drop_duplicates([\"userId\", \"movieId\"], inplace=True)"
   ]
  },
  {
   "cell_type": "markdown",
   "metadata": {},
   "source": [
    "This function will create a list of movies by entering the userid and this list should go in the recomm function and we can predict the movies based on user history."
   ]
  },
  {
   "cell_type": "code",
   "execution_count": 156,
   "metadata": {},
   "outputs": [],
   "source": [
    "def user_recommendation(userdata:pd.DataFrame,\n",
    "                        userid:int,\n",
    "                        model:gensim.models.doc2vec.Doc2Vec,\n",
    "                        movies_inv_mapper:dict):\n",
    "    \n",
    "    refined_dataset = userdata.sort_values(\"rating\", ascending=False)                    \n",
    "    refined_dataset['rank'] = refined_dataset.groupby(by=['userId'], as_index=False)['rating'].rank(method='first')\n",
    "    refined_dataset = refined_dataset[refined_dataset['rank'] <= 5] \n",
    "\n",
    "    movie_list = list(refined_dataset[refined_dataset['userId'] == userid]['original_title'].str.lower())\n",
    "    \n",
    "    output = get_recommendations(model,\n",
    "                                 movies_inv_mapper,\n",
    "                                 movie_list)\n",
    "    return output"
   ]
  },
  {
   "cell_type": "code",
   "execution_count": 157,
   "metadata": {},
   "outputs": [
    {
     "data": {
      "text/html": [
       "<div>\n",
       "<style scoped>\n",
       "    .dataframe tbody tr th:only-of-type {\n",
       "        vertical-align: middle;\n",
       "    }\n",
       "\n",
       "    .dataframe tbody tr th {\n",
       "        vertical-align: top;\n",
       "    }\n",
       "\n",
       "    .dataframe thead th {\n",
       "        text-align: right;\n",
       "    }\n",
       "</style>\n",
       "<table border=\"1\" class=\"dataframe\">\n",
       "  <thead>\n",
       "    <tr style=\"text-align: right;\">\n",
       "      <th></th>\n",
       "      <th>model_index</th>\n",
       "      <th>model_score</th>\n",
       "      <th>title_name</th>\n",
       "    </tr>\n",
       "  </thead>\n",
       "  <tbody>\n",
       "    <tr>\n",
       "      <th>0</th>\n",
       "      <td>1783</td>\n",
       "      <td>1.000000</td>\n",
       "      <td>a perfect murder</td>\n",
       "    </tr>\n",
       "    <tr>\n",
       "      <th>1</th>\n",
       "      <td>15351</td>\n",
       "      <td>0.959958</td>\n",
       "      <td>east side, west side</td>\n",
       "    </tr>\n",
       "    <tr>\n",
       "      <th>2</th>\n",
       "      <td>10722</td>\n",
       "      <td>0.946285</td>\n",
       "      <td>a woman's face</td>\n",
       "    </tr>\n",
       "    <tr>\n",
       "      <th>3</th>\n",
       "      <td>7080</td>\n",
       "      <td>0.945685</td>\n",
       "      <td>mesmerized</td>\n",
       "    </tr>\n",
       "    <tr>\n",
       "      <th>4</th>\n",
       "      <td>11620</td>\n",
       "      <td>0.942230</td>\n",
       "      <td>mad love</td>\n",
       "    </tr>\n",
       "    <tr>\n",
       "      <th>5</th>\n",
       "      <td>20225</td>\n",
       "      <td>0.941247</td>\n",
       "      <td>painted lady</td>\n",
       "    </tr>\n",
       "    <tr>\n",
       "      <th>6</th>\n",
       "      <td>38086</td>\n",
       "      <td>0.940952</td>\n",
       "      <td>dotkniecie reki</td>\n",
       "    </tr>\n",
       "    <tr>\n",
       "      <th>7</th>\n",
       "      <td>15242</td>\n",
       "      <td>0.940627</td>\n",
       "      <td>killers</td>\n",
       "    </tr>\n",
       "    <tr>\n",
       "      <th>8</th>\n",
       "      <td>3841</td>\n",
       "      <td>0.939591</td>\n",
       "      <td>NaN</td>\n",
       "    </tr>\n",
       "    <tr>\n",
       "      <th>9</th>\n",
       "      <td>6034</td>\n",
       "      <td>0.938945</td>\n",
       "      <td>a countess from hong kong</td>\n",
       "    </tr>\n",
       "    <tr>\n",
       "      <th>0</th>\n",
       "      <td>2216</td>\n",
       "      <td>1.000000</td>\n",
       "      <td>american history x</td>\n",
       "    </tr>\n",
       "    <tr>\n",
       "      <th>1</th>\n",
       "      <td>1658</td>\n",
       "      <td>0.944769</td>\n",
       "      <td>firestorm</td>\n",
       "    </tr>\n",
       "    <tr>\n",
       "      <th>2</th>\n",
       "      <td>16331</td>\n",
       "      <td>0.942646</td>\n",
       "      <td>faster</td>\n",
       "    </tr>\n",
       "    <tr>\n",
       "      <th>3</th>\n",
       "      <td>10937</td>\n",
       "      <td>0.942202</td>\n",
       "      <td>the sentinel</td>\n",
       "    </tr>\n",
       "    <tr>\n",
       "      <th>4</th>\n",
       "      <td>21811</td>\n",
       "      <td>0.941573</td>\n",
       "      <td>avenger</td>\n",
       "    </tr>\n",
       "    <tr>\n",
       "      <th>5</th>\n",
       "      <td>28284</td>\n",
       "      <td>0.941234</td>\n",
       "      <td>diamanti sporchi di sangue</td>\n",
       "    </tr>\n",
       "    <tr>\n",
       "      <th>6</th>\n",
       "      <td>36115</td>\n",
       "      <td>0.940822</td>\n",
       "      <td>ad ogni costo</td>\n",
       "    </tr>\n",
       "    <tr>\n",
       "      <th>7</th>\n",
       "      <td>8838</td>\n",
       "      <td>0.940768</td>\n",
       "      <td>yellowbeard</td>\n",
       "    </tr>\n",
       "    <tr>\n",
       "      <th>8</th>\n",
       "      <td>10373</td>\n",
       "      <td>0.938008</td>\n",
       "      <td>wedlock</td>\n",
       "    </tr>\n",
       "    <tr>\n",
       "      <th>9</th>\n",
       "      <td>1090</td>\n",
       "      <td>0.937216</td>\n",
       "      <td>the return of the pink panther</td>\n",
       "    </tr>\n",
       "    <tr>\n",
       "      <th>0</th>\n",
       "      <td>10582</td>\n",
       "      <td>1.000000</td>\n",
       "      <td>the driver</td>\n",
       "    </tr>\n",
       "    <tr>\n",
       "      <th>1</th>\n",
       "      <td>29365</td>\n",
       "      <td>0.972247</td>\n",
       "      <td>shield for murder</td>\n",
       "    </tr>\n",
       "    <tr>\n",
       "      <th>2</th>\n",
       "      <td>33641</td>\n",
       "      <td>0.970553</td>\n",
       "      <td>야수</td>\n",
       "    </tr>\n",
       "    <tr>\n",
       "      <th>3</th>\n",
       "      <td>25555</td>\n",
       "      <td>0.969519</td>\n",
       "      <td>big brown eyes</td>\n",
       "    </tr>\n",
       "    <tr>\n",
       "      <th>4</th>\n",
       "      <td>15105</td>\n",
       "      <td>0.968487</td>\n",
       "      <td>the silent partner</td>\n",
       "    </tr>\n",
       "    <tr>\n",
       "      <th>5</th>\n",
       "      <td>36538</td>\n",
       "      <td>0.968254</td>\n",
       "      <td>gangaajal</td>\n",
       "    </tr>\n",
       "    <tr>\n",
       "      <th>6</th>\n",
       "      <td>29040</td>\n",
       "      <td>0.968145</td>\n",
       "      <td>一個人的武林</td>\n",
       "    </tr>\n",
       "    <tr>\n",
       "      <th>7</th>\n",
       "      <td>27048</td>\n",
       "      <td>0.967720</td>\n",
       "      <td>guardie e ladri</td>\n",
       "    </tr>\n",
       "    <tr>\n",
       "      <th>8</th>\n",
       "      <td>15925</td>\n",
       "      <td>0.967123</td>\n",
       "      <td>rogue cop</td>\n",
       "    </tr>\n",
       "    <tr>\n",
       "      <th>9</th>\n",
       "      <td>31239</td>\n",
       "      <td>0.966833</td>\n",
       "      <td>hyena</td>\n",
       "    </tr>\n",
       "    <tr>\n",
       "      <th>0</th>\n",
       "      <td>37719</td>\n",
       "      <td>1.000000</td>\n",
       "      <td>confession of a child of the century</td>\n",
       "    </tr>\n",
       "    <tr>\n",
       "      <th>1</th>\n",
       "      <td>44936</td>\n",
       "      <td>0.969102</td>\n",
       "      <td>rückkehr nach montauk</td>\n",
       "    </tr>\n",
       "    <tr>\n",
       "      <th>2</th>\n",
       "      <td>25742</td>\n",
       "      <td>0.965182</td>\n",
       "      <td>four wives</td>\n",
       "    </tr>\n",
       "    <tr>\n",
       "      <th>3</th>\n",
       "      <td>24385</td>\n",
       "      <td>0.963943</td>\n",
       "      <td>oslinaya shkura</td>\n",
       "    </tr>\n",
       "    <tr>\n",
       "      <th>4</th>\n",
       "      <td>1028</td>\n",
       "      <td>0.963563</td>\n",
       "      <td>azúcar amarga</td>\n",
       "    </tr>\n",
       "    <tr>\n",
       "      <th>5</th>\n",
       "      <td>25728</td>\n",
       "      <td>0.960501</td>\n",
       "      <td>flesh and blood</td>\n",
       "    </tr>\n",
       "    <tr>\n",
       "      <th>6</th>\n",
       "      <td>24746</td>\n",
       "      <td>0.960289</td>\n",
       "      <td>hearts divided</td>\n",
       "    </tr>\n",
       "    <tr>\n",
       "      <th>7</th>\n",
       "      <td>21112</td>\n",
       "      <td>0.959339</td>\n",
       "      <td>vase de noces</td>\n",
       "    </tr>\n",
       "    <tr>\n",
       "      <th>8</th>\n",
       "      <td>41198</td>\n",
       "      <td>0.958769</td>\n",
       "      <td>ae dil hai mushkil</td>\n",
       "    </tr>\n",
       "    <tr>\n",
       "      <th>9</th>\n",
       "      <td>34641</td>\n",
       "      <td>0.957955</td>\n",
       "      <td>ദേവാസുരം</td>\n",
       "    </tr>\n",
       "    <tr>\n",
       "      <th>0</th>\n",
       "      <td>3413</td>\n",
       "      <td>1.000000</td>\n",
       "      <td>american psycho</td>\n",
       "    </tr>\n",
       "    <tr>\n",
       "      <th>1</th>\n",
       "      <td>26221</td>\n",
       "      <td>0.974037</td>\n",
       "      <td>the four feathers</td>\n",
       "    </tr>\n",
       "    <tr>\n",
       "      <th>2</th>\n",
       "      <td>35386</td>\n",
       "      <td>0.971285</td>\n",
       "      <td>amor impossível</td>\n",
       "    </tr>\n",
       "    <tr>\n",
       "      <th>3</th>\n",
       "      <td>8340</td>\n",
       "      <td>0.971047</td>\n",
       "      <td>dinner at eight</td>\n",
       "    </tr>\n",
       "    <tr>\n",
       "      <th>4</th>\n",
       "      <td>42736</td>\n",
       "      <td>0.969393</td>\n",
       "      <td>bridget everett: gynecological wonder</td>\n",
       "    </tr>\n",
       "    <tr>\n",
       "      <th>5</th>\n",
       "      <td>6567</td>\n",
       "      <td>0.969344</td>\n",
       "      <td>daisy miller</td>\n",
       "    </tr>\n",
       "    <tr>\n",
       "      <th>6</th>\n",
       "      <td>40169</td>\n",
       "      <td>0.968023</td>\n",
       "      <td>s/y glädjen</td>\n",
       "    </tr>\n",
       "    <tr>\n",
       "      <th>7</th>\n",
       "      <td>16688</td>\n",
       "      <td>0.967908</td>\n",
       "      <td>NaN</td>\n",
       "    </tr>\n",
       "    <tr>\n",
       "      <th>8</th>\n",
       "      <td>27331</td>\n",
       "      <td>0.967388</td>\n",
       "      <td>ride, vaquero!</td>\n",
       "    </tr>\n",
       "    <tr>\n",
       "      <th>9</th>\n",
       "      <td>40253</td>\n",
       "      <td>0.967354</td>\n",
       "      <td>refrigerantes e canções de amor</td>\n",
       "    </tr>\n",
       "  </tbody>\n",
       "</table>\n",
       "</div>"
      ],
      "text/plain": [
       "  model_index  model_score                             title_name\n",
       "0        1783     1.000000                       a perfect murder\n",
       "1       15351     0.959958                   east side, west side\n",
       "2       10722     0.946285                         a woman's face\n",
       "3        7080     0.945685                             mesmerized\n",
       "4       11620     0.942230                               mad love\n",
       "5       20225     0.941247                           painted lady\n",
       "6       38086     0.940952                        dotkniecie reki\n",
       "7       15242     0.940627                                killers\n",
       "8        3841     0.939591                                    NaN\n",
       "9        6034     0.938945              a countess from hong kong\n",
       "0        2216     1.000000                     american history x\n",
       "1        1658     0.944769                              firestorm\n",
       "2       16331     0.942646                                 faster\n",
       "3       10937     0.942202                           the sentinel\n",
       "4       21811     0.941573                                avenger\n",
       "5       28284     0.941234             diamanti sporchi di sangue\n",
       "6       36115     0.940822                          ad ogni costo\n",
       "7        8838     0.940768                            yellowbeard\n",
       "8       10373     0.938008                                wedlock\n",
       "9        1090     0.937216         the return of the pink panther\n",
       "0       10582     1.000000                             the driver\n",
       "1       29365     0.972247                      shield for murder\n",
       "2       33641     0.970553                                     야수\n",
       "3       25555     0.969519                         big brown eyes\n",
       "4       15105     0.968487                     the silent partner\n",
       "5       36538     0.968254                              gangaajal\n",
       "6       29040     0.968145                                 一個人的武林\n",
       "7       27048     0.967720                        guardie e ladri\n",
       "8       15925     0.967123                              rogue cop\n",
       "9       31239     0.966833                                  hyena\n",
       "0       37719     1.000000   confession of a child of the century\n",
       "1       44936     0.969102                  rückkehr nach montauk\n",
       "2       25742     0.965182                             four wives\n",
       "3       24385     0.963943                        oslinaya shkura\n",
       "4        1028     0.963563                          azúcar amarga\n",
       "5       25728     0.960501                        flesh and blood\n",
       "6       24746     0.960289                         hearts divided\n",
       "7       21112     0.959339                          vase de noces\n",
       "8       41198     0.958769                     ae dil hai mushkil\n",
       "9       34641     0.957955                               ദേവാസുരം\n",
       "0        3413     1.000000                        american psycho\n",
       "1       26221     0.974037                      the four feathers\n",
       "2       35386     0.971285                        amor impossível\n",
       "3        8340     0.971047                        dinner at eight\n",
       "4       42736     0.969393  bridget everett: gynecological wonder\n",
       "5        6567     0.969344                           daisy miller\n",
       "6       40169     0.968023                            s/y glädjen\n",
       "7       16688     0.967908                                    NaN\n",
       "8       27331     0.967388                         ride, vaquero!\n",
       "9       40253     0.967354        refrigerantes e canções de amor"
      ]
     },
     "execution_count": 157,
     "metadata": {},
     "output_type": "execute_result"
    }
   ],
   "source": [
    "# So lets recommennd 10 movies each for user id 46 based on watch history (top 5):\n",
    "user_recommendation(merged_dataset, 46 , model, movies_inv_mapper)"
   ]
  },
  {
   "cell_type": "markdown",
   "metadata": {},
   "source": [
    "*******END******"
   ]
  }
 ],
 "metadata": {
  "kernelspec": {
   "display_name": "Python 3 (ipykernel)",
   "language": "python",
   "name": "python3"
  },
  "language_info": {
   "codemirror_mode": {
    "name": "ipython",
    "version": 3
   },
   "file_extension": ".py",
   "mimetype": "text/x-python",
   "name": "python",
   "nbconvert_exporter": "python",
   "pygments_lexer": "ipython3",
   "version": "3.9.12"
  },
  "vscode": {
   "interpreter": {
    "hash": "40d3a090f54c6569ab1632332b64b2c03c39dcf918b08424e98f38b5ae0af88f"
   }
  }
 },
 "nbformat": 4,
 "nbformat_minor": 4
}
